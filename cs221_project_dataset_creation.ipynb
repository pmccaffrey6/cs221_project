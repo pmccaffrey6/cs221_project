{
 "cells": [
  {
   "cell_type": "code",
   "execution_count": 16,
   "id": "prompt-symbol",
   "metadata": {},
   "outputs": [
    {
     "data": {
      "text/html": [
       "<pre style=\"white-space:pre;overflow-x:auto;line-height:normal;font-family:Menlo,'DejaVu Sans Mono',consolas,'Courier New',monospace\"><span style=\"color: #008000; text-decoration-color: #008000\">Taxonomy loaded in </span><span style=\"color: #008000; text-decoration-color: #008000; font-weight: bold\">6.01</span><span style=\"color: #008000; text-decoration-color: #008000\"> seconds.</span>\n",
       "</pre>\n"
      ],
      "text/plain": [
       "\u001b[32mTaxonomy loaded in \u001b[0m\u001b[1;32m6.01\u001b[0m\u001b[32m seconds.\u001b[0m\n"
      ]
     },
     "metadata": {},
     "output_type": "display_data"
    }
   ],
   "source": [
    "import pandas as pd\n",
    "import numpy as np\n",
    "\n",
    "import os\n",
    "\n",
    "import time\n",
    "\n",
    "from brendapy import BrendaParser\n",
    "from brendapy.console import console\n",
    "\n",
    "from tqdm import tqdm\n",
    "\n",
    "import glob\n",
    "\n",
    "import json\n",
    "\n",
    "import requests\n",
    "\n",
    "from rdkit import Chem\n",
    "from rdkit.Chem import AllChem\n",
    "from rdkit.Chem import PandasTools\n",
    "from rdkit import RDConfig\n",
    "\n",
    "import matplotlib.pyplot as plt\n",
    "%matplotlib inline"
   ]
  },
  {
   "cell_type": "markdown",
   "id": "finished-catholic",
   "metadata": {},
   "source": [
    "# Parse Brenda Database\n",
    "\n",
    "This gets us a table joining Uniprot IDs (enzymes) and PubChem Chemical IDs (CIDs). We will use those CIDs to get names and SMILES"
   ]
  },
  {
   "cell_type": "code",
   "execution_count": 17,
   "id": "covered-castle",
   "metadata": {
    "tags": []
   },
   "outputs": [],
   "source": [
    "%%capture\n",
    "brenda = BrendaParser()"
   ]
  },
  {
   "cell_type": "code",
   "execution_count": 18,
   "id": "stopped-challenge",
   "metadata": {},
   "outputs": [],
   "source": [
    "all_ec = list(brenda.keys())"
   ]
  },
  {
   "cell_type": "code",
   "execution_count": 19,
   "id": "interested-nowhere",
   "metadata": {},
   "outputs": [],
   "source": [
    "def make_protein_df(proteins):\n",
    "    uniprot_ids = []\n",
    "    substrates = []\n",
    "\n",
    "    for protein in proteins:\n",
    "        if proteins[protein].uniprot and proteins[protein].SP:\n",
    "            for item in proteins[protein].SP:\n",
    "                for subitem in item['data'].split('=')[0].strip(' ').split(' + '):\n",
    "                    uniprot_ids.append(proteins[protein].uniprot)\n",
    "                    substrates.append(subitem)\n",
    "                    \n",
    "    return pd.DataFrame(data={\n",
    "            'uniprot_ids': uniprot_ids,\n",
    "            'substrates': substrates\n",
    "            })"
   ]
  },
  {
   "cell_type": "code",
   "execution_count": 20,
   "id": "architectural-arrival",
   "metadata": {},
   "outputs": [],
   "source": [
    "# %%capture\n",
    "\n",
    "# for i in range(65,75):\n",
    "#     chunk = pd.concat( [make_protein_df( brenda.get_proteins(ec=i) ) for i in all_ec[i*100:(i+1)*100]] )\n",
    "#     chunk.to_csv(f\"brenda_chunks/brenda_chunk_{i}.tsv\", sep='\\t')"
   ]
  },
  {
   "cell_type": "code",
   "execution_count": 21,
   "id": "residential-childhood",
   "metadata": {},
   "outputs": [],
   "source": [
    "#all_brenda_data = pd.concat( [pd.read_csv(file, sep='\\t') for file in glob.glob('brenda_chunks/*')] )\n",
    "#all_brenda_data = all_brenda_data.drop('Unnamed: 0', axis=1)\n",
    "#all_brenda_data.to_csv('all_brenda_data.tsv', sep='\\t', index=False)"
   ]
  },
  {
   "cell_type": "code",
   "execution_count": 22,
   "id": "functioning-jaguar",
   "metadata": {},
   "outputs": [],
   "source": [
    "#all_brenda_data = pd.read_csv('all_brenda_data.tsv', sep='\\t')\n",
    "#all_brenda_data_clean = all_brenda_data[~all_brenda_data['substrates'].str.lower().isin(['h20', 'h2o', 'h+', 'nadp+', 'nad+', 'more'])].drop_duplicates()"
   ]
  },
  {
   "cell_type": "code",
   "execution_count": 23,
   "id": "black-enforcement",
   "metadata": {},
   "outputs": [],
   "source": [
    "#all_brenda_data_clean.to_csv('all_brenda_data_cleaned.tsv', sep='\\t')\n",
    "#all_brenda_data_clean"
   ]
  },
  {
   "cell_type": "code",
   "execution_count": 24,
   "id": "grateful-germany",
   "metadata": {},
   "outputs": [],
   "source": [
    "all_brenda_data_clean = pd.read_csv('all_brenda_data_cleaned.tsv', sep='\\t')"
   ]
  },
  {
   "cell_type": "code",
   "execution_count": 25,
   "id": "developing-entrance",
   "metadata": {},
   "outputs": [],
   "source": [
    "all_brenda_substrates = list(all_brenda_data_clean['substrates'].unique())"
   ]
  },
  {
   "cell_type": "markdown",
   "id": "medieval-pasta",
   "metadata": {},
   "source": [
    "# Get Substrate SMILES"
   ]
  },
  {
   "cell_type": "code",
   "execution_count": 26,
   "id": "alien-falls",
   "metadata": {},
   "outputs": [],
   "source": [
    "def get_table_from_cmpname(cmpname):\n",
    "    try:\n",
    "        r = requests.get(f\"https://pubchem.ncbi.nlm.nih.gov/rest/pug/compound/name/{cmpname}/property/Title,IUPACName,CanonicalSMILES,Fingerprint2D/XML\")\n",
    "\n",
    "        #table = pd.DataFrame.from_records( [i.split(\"\\t\") for i in r.text.replace('\",\"', \"\\t\").split(\"\\n\")] )\n",
    "        #table.columns = table.iloc[0].values\n",
    "        #return table.head(2).drop(0)\n",
    "        return pd.read_xml(r.text)\n",
    "    except ValueError:\n",
    "        pass"
   ]
  },
  {
   "cell_type": "code",
   "execution_count": 27,
   "id": "affecting-rotation",
   "metadata": {},
   "outputs": [],
   "source": [
    "window_size = 375\n",
    "\n",
    "slices = range( (int(len(all_brenda_substrates) / window_size) + 1) )\n",
    "\n",
    "\n",
    "request_data_chunks = []\n",
    "\n",
    "existing_chunks = glob.glob(\"pubchem_chunks/*\")\n",
    "\n",
    "\n",
    "# for idx, slice_num in enumerate(slices):\n",
    "#     outfile_name =  f\"pubchem_chunks/pubchem_chunk_{idx}.tsv\"\n",
    "#     if outfile_name not in existing_chunks:\n",
    "#         try:\n",
    "#             # we just sleep for a minute on each loop because the PubChem API docs tell us they\n",
    "#             # will throttle at 400 API calls per minute\n",
    "#             time.sleep(60)\n",
    "#             print(f\"processing chunk {idx} of {len(list(slices))}...\")\n",
    "#             #request_data_chunks.extend( [get_table_from_cmpname(cmpname) for cmpname in all_brenda_substrates[slice_num*window_size:(slice_num*window_size)+window_size]] )\n",
    "#             pd.concat([get_table_from_cmpname(cmpname) for cmpname in all_brenda_substrates[slice_num*window_size:(slice_num*window_size)+window_size]]).to_csv(\n",
    "#                 f\"pubchem_chunks/pubchem_chunk_{idx}.tsv\", sep='\\t')\n",
    "#         except Exception as e:\n",
    "#             print(f\"ran into exception on slice number {idx}: {e}\")\n",
    "#     else:\n",
    "#         print(f\"{outfile_name} already exists, skipping processing for chunk {idx}...\")"
   ]
  },
  {
   "cell_type": "code",
   "execution_count": 28,
   "id": "general-murray",
   "metadata": {},
   "outputs": [],
   "source": [
    "#pd.concat([pd.read_csv(i, sep='\\t') for i in glob.glob(\"pubchem_chunks/*\")]).drop('Unnamed: 0', axis=1).sort_values(by='CID').drop_duplicates().to_csv(\n",
    "#    'pubchem_compound_data_clean.tsv', sep='\\t')"
   ]
  },
  {
   "cell_type": "markdown",
   "id": "seasonal-momentum",
   "metadata": {},
   "source": [
    "# Join BRENDA and PubChem Data"
   ]
  },
  {
   "cell_type": "code",
   "execution_count": 30,
   "id": "close-kitchen",
   "metadata": {},
   "outputs": [],
   "source": [
    "pubchem_compound_data = pd.read_csv('pubchem_compound_data_clean.tsv', sep='\\t')"
   ]
  },
  {
   "cell_type": "code",
   "execution_count": 31,
   "id": "enabling-aggregate",
   "metadata": {},
   "outputs": [
    {
     "data": {
      "text/html": [
       "<div>\n",
       "<style scoped>\n",
       "    .dataframe tbody tr th:only-of-type {\n",
       "        vertical-align: middle;\n",
       "    }\n",
       "\n",
       "    .dataframe tbody tr th {\n",
       "        vertical-align: top;\n",
       "    }\n",
       "\n",
       "    .dataframe thead th {\n",
       "        text-align: right;\n",
       "    }\n",
       "</style>\n",
       "<table border=\"1\" class=\"dataframe\">\n",
       "  <thead>\n",
       "    <tr style=\"text-align: right;\">\n",
       "      <th></th>\n",
       "      <th>Unnamed: 0_x</th>\n",
       "      <th>uniprot_ids</th>\n",
       "      <th>substrates</th>\n",
       "      <th>Unnamed: 0_y</th>\n",
       "      <th>CID</th>\n",
       "      <th>CanonicalSMILES</th>\n",
       "      <th>IUPACName</th>\n",
       "      <th>Fingerprint2D</th>\n",
       "      <th>Title</th>\n",
       "    </tr>\n",
       "  </thead>\n",
       "  <tbody>\n",
       "    <tr>\n",
       "      <th>0</th>\n",
       "      <td>11</td>\n",
       "      <td>L0EKQ7</td>\n",
       "      <td>ginsenoside F2</td>\n",
       "      <td>4</td>\n",
       "      <td>9918692</td>\n",
       "      <td>CC(=CCCC(C)(C1CCC2(C1C(CC3C2(CCC4C3(CCC(C4(C)C...</td>\n",
       "      <td>(2R,3S,4S,5R,6R)-2-(hydroxymethyl)-6-[[(3S,5R,...</td>\n",
       "      <td>AAADcfB8PAAAAAAAAAAAAAAAAAAAAYAAAAA0aMECAAAAAG...</td>\n",
       "      <td>ginsenoside F2</td>\n",
       "    </tr>\n",
       "    <tr>\n",
       "      <th>1</th>\n",
       "      <td>22</td>\n",
       "      <td>H5U8W4</td>\n",
       "      <td>ginsenoside F2</td>\n",
       "      <td>4</td>\n",
       "      <td>9918692</td>\n",
       "      <td>CC(=CCCC(C)(C1CCC2(C1C(CC3C2(CCC4C3(CCC(C4(C)C...</td>\n",
       "      <td>(2R,3S,4S,5R,6R)-2-(hydroxymethyl)-6-[[(3S,5R,...</td>\n",
       "      <td>AAADcfB8PAAAAAAAAAAAAAAAAAAAAYAAAAA0aMECAAAAAG...</td>\n",
       "      <td>ginsenoside F2</td>\n",
       "    </tr>\n",
       "    <tr>\n",
       "      <th>2</th>\n",
       "      <td>31</td>\n",
       "      <td>D2KAT1</td>\n",
       "      <td>ginsenoside F2</td>\n",
       "      <td>4</td>\n",
       "      <td>9918692</td>\n",
       "      <td>CC(=CCCC(C)(C1CCC2(C1C(CC3C2(CCC4C3(CCC(C4(C)C...</td>\n",
       "      <td>(2R,3S,4S,5R,6R)-2-(hydroxymethyl)-6-[[(3S,5R,...</td>\n",
       "      <td>AAADcfB8PAAAAAAAAAAAAAAAAAAAAYAAAAA0aMECAAAAAG...</td>\n",
       "      <td>ginsenoside F2</td>\n",
       "    </tr>\n",
       "    <tr>\n",
       "      <th>3</th>\n",
       "      <td>66</td>\n",
       "      <td>A5IL43</td>\n",
       "      <td>ginsenoside F2</td>\n",
       "      <td>4</td>\n",
       "      <td>9918692</td>\n",
       "      <td>CC(=CCCC(C)(C1CCC2(C1C(CC3C2(CCC4C3(CCC(C4(C)C...</td>\n",
       "      <td>(2R,3S,4S,5R,6R)-2-(hydroxymethyl)-6-[[(3S,5R,...</td>\n",
       "      <td>AAADcfB8PAAAAAAAAAAAAAAAAAAAAYAAAAA0aMECAAAAAG...</td>\n",
       "      <td>ginsenoside F2</td>\n",
       "    </tr>\n",
       "    <tr>\n",
       "      <th>4</th>\n",
       "      <td>94</td>\n",
       "      <td>F7YVT1</td>\n",
       "      <td>ginsenoside F2</td>\n",
       "      <td>4</td>\n",
       "      <td>9918692</td>\n",
       "      <td>CC(=CCCC(C)(C1CCC2(C1C(CC3C2(CCC4C3(CCC(C4(C)C...</td>\n",
       "      <td>(2R,3S,4S,5R,6R)-2-(hydroxymethyl)-6-[[(3S,5R,...</td>\n",
       "      <td>AAADcfB8PAAAAAAAAAAAAAAAAAAAAYAAAAA0aMECAAAAAG...</td>\n",
       "      <td>ginsenoside F2</td>\n",
       "    </tr>\n",
       "    <tr>\n",
       "      <th>...</th>\n",
       "      <td>...</td>\n",
       "      <td>...</td>\n",
       "      <td>...</td>\n",
       "      <td>...</td>\n",
       "      <td>...</td>\n",
       "      <td>...</td>\n",
       "      <td>...</td>\n",
       "      <td>...</td>\n",
       "      <td>...</td>\n",
       "    </tr>\n",
       "    <tr>\n",
       "      <th>5272</th>\n",
       "      <td>188370</td>\n",
       "      <td>A0A3G1VCA9</td>\n",
       "      <td>DIBOA beta-D-glucoside</td>\n",
       "      <td>285</td>\n",
       "      <td>10925943</td>\n",
       "      <td>C1=CC=C2C(=C1)N(C(=O)C(O2)OC3C(C(C(C(O3)CO)O)O...</td>\n",
       "      <td>(2R)-4-hydroxy-2-[(2S,3R,4S,5S,6R)-3,4,5-trihy...</td>\n",
       "      <td>AAADceByPAAAAAAAAAAAAAAAAAAAAAAAAAA8SIAAAAAAAA...</td>\n",
       "      <td>DIBOA beta-D-glucoside</td>\n",
       "    </tr>\n",
       "    <tr>\n",
       "      <th>5273</th>\n",
       "      <td>188374</td>\n",
       "      <td>Q9FYS3</td>\n",
       "      <td>DIBOA-glucoside</td>\n",
       "      <td>22</td>\n",
       "      <td>5316752</td>\n",
       "      <td>C1=CC=C2C(=C1)N(C(=O)C(O2)OC3C(C(C(C(O3)CO)O)O...</td>\n",
       "      <td>4-hydroxy-2-[(2S,3R,4S,5S,6R)-3,4,5-trihydroxy...</td>\n",
       "      <td>AAADceByPAAAAAAAAAAAAAAAAAAAAAAAAAA8SIAAAAAAAA...</td>\n",
       "      <td>DIBOA-glucoside</td>\n",
       "    </tr>\n",
       "    <tr>\n",
       "      <th>5274</th>\n",
       "      <td>188384</td>\n",
       "      <td>Q1XH05</td>\n",
       "      <td>DIBOA-glucoside</td>\n",
       "      <td>22</td>\n",
       "      <td>5316752</td>\n",
       "      <td>C1=CC=C2C(=C1)N(C(=O)C(O2)OC3C(C(C(C(O3)CO)O)O...</td>\n",
       "      <td>4-hydroxy-2-[(2S,3R,4S,5S,6R)-3,4,5-trihydroxy...</td>\n",
       "      <td>AAADceByPAAAAAAAAAAAAAAAAAAAAAAAAAA8SIAAAAAAAA...</td>\n",
       "      <td>DIBOA-glucoside</td>\n",
       "    </tr>\n",
       "    <tr>\n",
       "      <th>5275</th>\n",
       "      <td>188395</td>\n",
       "      <td>E8MGH8</td>\n",
       "      <td>beta-L-arabinofuranosyl-(1-&gt;2)-beta-L-arabinof...</td>\n",
       "      <td>25</td>\n",
       "      <td>71306364</td>\n",
       "      <td>C(C1C(C(C(O1)O)OC2C(C(C(O2)CO)O)O)O)O</td>\n",
       "      <td>(2S,3R,4S,5S)-3-[(2R,3R,4R,5S)-3,4-dihydroxy-5...</td>\n",
       "      <td>AAADceBwPAAAAAAAAAAAAAAAAAAAASJAAAAAAAAAAAAAAA...</td>\n",
       "      <td>beta-L-arabinofuranosyl-(1-&gt;2)-beta-L-arabinof...</td>\n",
       "    </tr>\n",
       "    <tr>\n",
       "      <th>5276</th>\n",
       "      <td>188400</td>\n",
       "      <td>Q3BS08</td>\n",
       "      <td>beta-L-arabinofuranosyl-(1-&gt;2)-beta-L-arabinof...</td>\n",
       "      <td>25</td>\n",
       "      <td>71306364</td>\n",
       "      <td>C(C1C(C(C(O1)O)OC2C(C(C(O2)CO)O)O)O)O</td>\n",
       "      <td>(2S,3R,4S,5S)-3-[(2R,3R,4R,5S)-3,4-dihydroxy-5...</td>\n",
       "      <td>AAADceBwPAAAAAAAAAAAAAAAAAAAASJAAAAAAAAAAAAAAA...</td>\n",
       "      <td>beta-L-arabinofuranosyl-(1-&gt;2)-beta-L-arabinof...</td>\n",
       "    </tr>\n",
       "  </tbody>\n",
       "</table>\n",
       "<p>5277 rows × 9 columns</p>\n",
       "</div>"
      ]
     },
     "execution_count": 31,
     "metadata": {},
     "output_type": "execute_result"
    }
   ],
   "source": [
    "all_brenda_data_clean.merge(pubchem_compound_data, left_on='substrates', right_on='Title', how='inner')"
   ]
  },
  {
   "cell_type": "code",
   "execution_count": 32,
   "id": "insured-retailer",
   "metadata": {},
   "outputs": [],
   "source": [
    "brenda_and_pubchem = all_brenda_data_clean.merge(pubchem_compound_data, left_on='substrates', right_on='Title', how='inner')\n",
    "brenda_and_pubchem = brenda_and_pubchem[[i for i in brenda_and_pubchem.columns if not i.startswith('Unnamed')]]"
   ]
  },
  {
   "cell_type": "markdown",
   "id": "interracial-knife",
   "metadata": {},
   "source": [
    "## Note:\n",
    "\n",
    "The histograms of different compounds and enzymes is less biased than I had expected"
   ]
  },
  {
   "cell_type": "code",
   "execution_count": 33,
   "id": "round-turkey",
   "metadata": {},
   "outputs": [
    {
     "data": {
      "text/html": [
       "<pre style=\"white-space:pre;overflow-x:auto;line-height:normal;font-family:Menlo,'DejaVu Sans Mono',consolas,'Courier New',monospace\"><span style=\"font-weight: bold\">&lt;</span><span style=\"color: #ff00ff; text-decoration-color: #ff00ff; font-weight: bold\">AxesSubplot:</span><span style=\"font-weight: bold\">&gt;</span>\n",
       "</pre>\n"
      ],
      "text/plain": [
       "\u001b[1m<\u001b[0m\u001b[1;95mAxesSubplot:\u001b[0m\u001b[1m>\u001b[0m\n"
      ]
     },
     "metadata": {},
     "output_type": "display_data"
    },
    {
     "data": {
      "text/html": [
       "<pre style=\"white-space:pre;overflow-x:auto;line-height:normal;font-family:Menlo,'DejaVu Sans Mono',consolas,'Courier New',monospace\"><span style=\"font-weight: bold\">&lt;</span><span style=\"color: #ff00ff; text-decoration-color: #ff00ff; font-weight: bold\">Figure</span><span style=\"color: #000000; text-decoration-color: #000000\"> size 1728x576 with </span><span style=\"color: #008080; text-decoration-color: #008080; font-weight: bold\">1</span><span style=\"color: #000000; text-decoration-color: #000000\"> Axes</span><span style=\"font-weight: bold\">&gt;</span>\n",
       "</pre>\n"
      ],
      "text/plain": [
       "\u001b[1m<\u001b[0m\u001b[1;95mFigure\u001b[0m\u001b[39m size 1728x576 with \u001b[0m\u001b[1;36m1\u001b[0m\u001b[39m Axes\u001b[0m\u001b[1m>\u001b[0m\n"
      ]
     },
     "metadata": {},
     "output_type": "display_data"
    },
    {
     "data": {
      "image/png": "[encoded data removed]"
     },
     "metadata": {
      "needs_background": "light"
     },
     "output_type": "display_data"
    }
   ],
   "source": [
    "brenda_and_pubchem['Title'].hist(grid=False, figsize=(24,8), xlabelsize=0)"
   ]
  },
  {
   "cell_type": "code",
   "execution_count": 34,
   "id": "mental-greece",
   "metadata": {},
   "outputs": [
    {
     "data": {
      "text/html": [
       "<pre style=\"white-space:pre;overflow-x:auto;line-height:normal;font-family:Menlo,'DejaVu Sans Mono',consolas,'Courier New',monospace\"><span style=\"font-weight: bold\">&lt;</span><span style=\"color: #ff00ff; text-decoration-color: #ff00ff; font-weight: bold\">AxesSubplot:</span><span style=\"font-weight: bold\">&gt;</span>\n",
       "</pre>\n"
      ],
      "text/plain": [
       "\u001b[1m<\u001b[0m\u001b[1;95mAxesSubplot:\u001b[0m\u001b[1m>\u001b[0m\n"
      ]
     },
     "metadata": {},
     "output_type": "display_data"
    },
    {
     "data": {
      "text/html": [
       "<pre style=\"white-space:pre;overflow-x:auto;line-height:normal;font-family:Menlo,'DejaVu Sans Mono',consolas,'Courier New',monospace\"><span style=\"font-weight: bold\">&lt;</span><span style=\"color: #ff00ff; text-decoration-color: #ff00ff; font-weight: bold\">Figure</span><span style=\"color: #000000; text-decoration-color: #000000\"> size 1728x576 with </span><span style=\"color: #008080; text-decoration-color: #008080; font-weight: bold\">1</span><span style=\"color: #000000; text-decoration-color: #000000\"> Axes</span><span style=\"font-weight: bold\">&gt;</span>\n",
       "</pre>\n"
      ],
      "text/plain": [
       "\u001b[1m<\u001b[0m\u001b[1;95mFigure\u001b[0m\u001b[39m size 1728x576 with \u001b[0m\u001b[1;36m1\u001b[0m\u001b[39m Axes\u001b[0m\u001b[1m>\u001b[0m\n"
      ]
     },
     "metadata": {},
     "output_type": "display_data"
    },
    {
     "data": {
      "image/png": "[encoded data removed]"
     },
     "metadata": {
      "needs_background": "light"
     },
     "output_type": "display_data"
    }
   ],
   "source": [
    "brenda_and_pubchem['Title'].hist(grid=False, figsize=(24,8), xlabelsize=0)"
   ]
  },
  {
   "cell_type": "markdown",
   "id": "pregnant-healing",
   "metadata": {},
   "source": [
    "# Process Chemical Features"
   ]
  },
  {
   "cell_type": "code",
   "execution_count": 35,
   "id": "external-fighter",
   "metadata": {},
   "outputs": [],
   "source": [
    "def create_morgan_fp(cmp):\n",
    "    mol = Chem.MolFromSmiles(cmp)\n",
    "    fp = AllChem.GetMorganFingerprintAsBitVect(mol, useChirality=True, radius=2, nBits=124)\n",
    "    vec = np.array(fp)\n",
    "    return vec"
   ]
  },
  {
   "cell_type": "code",
   "execution_count": 36,
   "id": "informational-loading",
   "metadata": {},
   "outputs": [],
   "source": [
    "brenda_and_pubchem['MorganFingerprint'] = [create_morgan_fp(cmp) for cmp in brenda_and_pubchem['CanonicalSMILES'].values]"
   ]
  },
  {
   "cell_type": "code",
   "execution_count": 37,
   "id": "amateur-mongolia",
   "metadata": {},
   "outputs": [
    {
     "data": {
      "text/html": [
       "<div>\n",
       "<style scoped>\n",
       "    .dataframe tbody tr th:only-of-type {\n",
       "        vertical-align: middle;\n",
       "    }\n",
       "\n",
       "    .dataframe tbody tr th {\n",
       "        vertical-align: top;\n",
       "    }\n",
       "\n",
       "    .dataframe thead th {\n",
       "        text-align: right;\n",
       "    }\n",
       "</style>\n",
       "<table border=\"1\" class=\"dataframe\">\n",
       "  <thead>\n",
       "    <tr style=\"text-align: right;\">\n",
       "      <th></th>\n",
       "      <th>uniprot_ids</th>\n",
       "      <th>substrates</th>\n",
       "      <th>CID</th>\n",
       "      <th>CanonicalSMILES</th>\n",
       "      <th>IUPACName</th>\n",
       "      <th>Fingerprint2D</th>\n",
       "      <th>Title</th>\n",
       "      <th>MorganFingerprint</th>\n",
       "    </tr>\n",
       "  </thead>\n",
       "  <tbody>\n",
       "    <tr>\n",
       "      <th>0</th>\n",
       "      <td>L0EKQ7</td>\n",
       "      <td>ginsenoside F2</td>\n",
       "      <td>9918692</td>\n",
       "      <td>CC(=CCCC(C)(C1CCC2(C1C(CC3C2(CCC4C3(CCC(C4(C)C...</td>\n",
       "      <td>(2R,3S,4S,5R,6R)-2-(hydroxymethyl)-6-[[(3S,5R,...</td>\n",
       "      <td>AAADcfB8PAAAAAAAAAAAAAAAAAAAAYAAAAA0aMECAAAAAG...</td>\n",
       "      <td>ginsenoside F2</td>\n",
       "      <td>[0, 0, 1, 1, 1, 0, 0, 0, 1, 1, 1, 0, 0, 1, 1, ...</td>\n",
       "    </tr>\n",
       "    <tr>\n",
       "      <th>1</th>\n",
       "      <td>H5U8W4</td>\n",
       "      <td>ginsenoside F2</td>\n",
       "      <td>9918692</td>\n",
       "      <td>CC(=CCCC(C)(C1CCC2(C1C(CC3C2(CCC4C3(CCC(C4(C)C...</td>\n",
       "      <td>(2R,3S,4S,5R,6R)-2-(hydroxymethyl)-6-[[(3S,5R,...</td>\n",
       "      <td>AAADcfB8PAAAAAAAAAAAAAAAAAAAAYAAAAA0aMECAAAAAG...</td>\n",
       "      <td>ginsenoside F2</td>\n",
       "      <td>[0, 0, 1, 1, 1, 0, 0, 0, 1, 1, 1, 0, 0, 1, 1, ...</td>\n",
       "    </tr>\n",
       "    <tr>\n",
       "      <th>2</th>\n",
       "      <td>D2KAT1</td>\n",
       "      <td>ginsenoside F2</td>\n",
       "      <td>9918692</td>\n",
       "      <td>CC(=CCCC(C)(C1CCC2(C1C(CC3C2(CCC4C3(CCC(C4(C)C...</td>\n",
       "      <td>(2R,3S,4S,5R,6R)-2-(hydroxymethyl)-6-[[(3S,5R,...</td>\n",
       "      <td>AAADcfB8PAAAAAAAAAAAAAAAAAAAAYAAAAA0aMECAAAAAG...</td>\n",
       "      <td>ginsenoside F2</td>\n",
       "      <td>[0, 0, 1, 1, 1, 0, 0, 0, 1, 1, 1, 0, 0, 1, 1, ...</td>\n",
       "    </tr>\n",
       "    <tr>\n",
       "      <th>3</th>\n",
       "      <td>A5IL43</td>\n",
       "      <td>ginsenoside F2</td>\n",
       "      <td>9918692</td>\n",
       "      <td>CC(=CCCC(C)(C1CCC2(C1C(CC3C2(CCC4C3(CCC(C4(C)C...</td>\n",
       "      <td>(2R,3S,4S,5R,6R)-2-(hydroxymethyl)-6-[[(3S,5R,...</td>\n",
       "      <td>AAADcfB8PAAAAAAAAAAAAAAAAAAAAYAAAAA0aMECAAAAAG...</td>\n",
       "      <td>ginsenoside F2</td>\n",
       "      <td>[0, 0, 1, 1, 1, 0, 0, 0, 1, 1, 1, 0, 0, 1, 1, ...</td>\n",
       "    </tr>\n",
       "    <tr>\n",
       "      <th>4</th>\n",
       "      <td>F7YVT1</td>\n",
       "      <td>ginsenoside F2</td>\n",
       "      <td>9918692</td>\n",
       "      <td>CC(=CCCC(C)(C1CCC2(C1C(CC3C2(CCC4C3(CCC(C4(C)C...</td>\n",
       "      <td>(2R,3S,4S,5R,6R)-2-(hydroxymethyl)-6-[[(3S,5R,...</td>\n",
       "      <td>AAADcfB8PAAAAAAAAAAAAAAAAAAAAYAAAAA0aMECAAAAAG...</td>\n",
       "      <td>ginsenoside F2</td>\n",
       "      <td>[0, 0, 1, 1, 1, 0, 0, 0, 1, 1, 1, 0, 0, 1, 1, ...</td>\n",
       "    </tr>\n",
       "    <tr>\n",
       "      <th>...</th>\n",
       "      <td>...</td>\n",
       "      <td>...</td>\n",
       "      <td>...</td>\n",
       "      <td>...</td>\n",
       "      <td>...</td>\n",
       "      <td>...</td>\n",
       "      <td>...</td>\n",
       "      <td>...</td>\n",
       "    </tr>\n",
       "    <tr>\n",
       "      <th>5272</th>\n",
       "      <td>A0A3G1VCA9</td>\n",
       "      <td>DIBOA beta-D-glucoside</td>\n",
       "      <td>10925943</td>\n",
       "      <td>C1=CC=C2C(=C1)N(C(=O)C(O2)OC3C(C(C(C(O3)CO)O)O...</td>\n",
       "      <td>(2R)-4-hydroxy-2-[(2S,3R,4S,5S,6R)-3,4,5-trihy...</td>\n",
       "      <td>AAADceByPAAAAAAAAAAAAAAAAAAAAAAAAAA8SIAAAAAAAA...</td>\n",
       "      <td>DIBOA beta-D-glucoside</td>\n",
       "      <td>[0, 0, 0, 0, 0, 0, 0, 0, 0, 0, 0, 0, 0, 1, 0, ...</td>\n",
       "    </tr>\n",
       "    <tr>\n",
       "      <th>5273</th>\n",
       "      <td>Q9FYS3</td>\n",
       "      <td>DIBOA-glucoside</td>\n",
       "      <td>5316752</td>\n",
       "      <td>C1=CC=C2C(=C1)N(C(=O)C(O2)OC3C(C(C(C(O3)CO)O)O...</td>\n",
       "      <td>4-hydroxy-2-[(2S,3R,4S,5S,6R)-3,4,5-trihydroxy...</td>\n",
       "      <td>AAADceByPAAAAAAAAAAAAAAAAAAAAAAAAAA8SIAAAAAAAA...</td>\n",
       "      <td>DIBOA-glucoside</td>\n",
       "      <td>[0, 0, 0, 0, 0, 0, 0, 0, 0, 0, 0, 0, 0, 1, 0, ...</td>\n",
       "    </tr>\n",
       "    <tr>\n",
       "      <th>5274</th>\n",
       "      <td>Q1XH05</td>\n",
       "      <td>DIBOA-glucoside</td>\n",
       "      <td>5316752</td>\n",
       "      <td>C1=CC=C2C(=C1)N(C(=O)C(O2)OC3C(C(C(C(O3)CO)O)O...</td>\n",
       "      <td>4-hydroxy-2-[(2S,3R,4S,5S,6R)-3,4,5-trihydroxy...</td>\n",
       "      <td>AAADceByPAAAAAAAAAAAAAAAAAAAAAAAAAA8SIAAAAAAAA...</td>\n",
       "      <td>DIBOA-glucoside</td>\n",
       "      <td>[0, 0, 0, 0, 0, 0, 0, 0, 0, 0, 0, 0, 0, 1, 0, ...</td>\n",
       "    </tr>\n",
       "    <tr>\n",
       "      <th>5275</th>\n",
       "      <td>E8MGH8</td>\n",
       "      <td>beta-L-arabinofuranosyl-(1-&gt;2)-beta-L-arabinof...</td>\n",
       "      <td>71306364</td>\n",
       "      <td>C(C1C(C(C(O1)O)OC2C(C(C(O2)CO)O)O)O)O</td>\n",
       "      <td>(2S,3R,4S,5S)-3-[(2R,3R,4R,5S)-3,4-dihydroxy-5...</td>\n",
       "      <td>AAADceBwPAAAAAAAAAAAAAAAAAAAASJAAAAAAAAAAAAAAA...</td>\n",
       "      <td>beta-L-arabinofuranosyl-(1-&gt;2)-beta-L-arabinof...</td>\n",
       "      <td>[0, 0, 0, 0, 0, 0, 0, 0, 0, 0, 0, 0, 0, 1, 0, ...</td>\n",
       "    </tr>\n",
       "    <tr>\n",
       "      <th>5276</th>\n",
       "      <td>Q3BS08</td>\n",
       "      <td>beta-L-arabinofuranosyl-(1-&gt;2)-beta-L-arabinof...</td>\n",
       "      <td>71306364</td>\n",
       "      <td>C(C1C(C(C(O1)O)OC2C(C(C(O2)CO)O)O)O)O</td>\n",
       "      <td>(2S,3R,4S,5S)-3-[(2R,3R,4R,5S)-3,4-dihydroxy-5...</td>\n",
       "      <td>AAADceBwPAAAAAAAAAAAAAAAAAAAASJAAAAAAAAAAAAAAA...</td>\n",
       "      <td>beta-L-arabinofuranosyl-(1-&gt;2)-beta-L-arabinof...</td>\n",
       "      <td>[0, 0, 0, 0, 0, 0, 0, 0, 0, 0, 0, 0, 0, 1, 0, ...</td>\n",
       "    </tr>\n",
       "  </tbody>\n",
       "</table>\n",
       "<p>5277 rows × 8 columns</p>\n",
       "</div>"
      ]
     },
     "execution_count": 37,
     "metadata": {},
     "output_type": "execute_result"
    }
   ],
   "source": [
    "brenda_and_pubchem"
   ]
  },
  {
   "cell_type": "markdown",
   "id": "about-bidding",
   "metadata": {},
   "source": [
    "# Get UniProt AA Sequences"
   ]
  },
  {
   "cell_type": "code",
   "execution_count": 40,
   "id": "legislative-california",
   "metadata": {},
   "outputs": [],
   "source": [
    "def get_uniprot_entry_by_id(idx, uniprot_id):\n",
    "    #print(f\"UID: {uniprot_id}\")\n",
    "    r = requests.get(f\"https://www.ebi.ac.uk/proteins/api/proteins/{uniprot_id}\")\n",
    "    \n",
    "    try:\n",
    "        try:\n",
    "            aa_sequence = json.loads(r.text)['sequence']['sequence']\n",
    "        except:\n",
    "            aa_sequence = np.nan\n",
    "            \n",
    "        try:\n",
    "            uniprot_accession = json.loads(r.text)['accession']\n",
    "        except:\n",
    "            uniprot_accession = np.nan\n",
    "            \n",
    "        try:\n",
    "            uniprot_name = json.loads(r.text)['protein']['submittedName'][0]['fullName']['value']\n",
    "        except:\n",
    "            uniprot_name = np.nan\n",
    "            \n",
    "        try:\n",
    "            uniprot_ec = json.loads(r.text)['protein']['submittedName'][0]['ecNumber'][0]['value']\n",
    "        except:\n",
    "            uniprot_ec = np.nan\n",
    "            \n",
    "        try:\n",
    "            pfam_ids = ';'.join([i['id'] for i in json.loads(r.text)['dbReferences'] if i['type']=='Pfam'])\n",
    "        except:\n",
    "            pfam_ids = np.nan\n",
    "        \n",
    "        return pd.DataFrame(data={\n",
    "            'index':[idx],\n",
    "            'aa_sequence':aa_sequence,\n",
    "            'uniprot_accession':uniprot_accession,\n",
    "            'uniprot_name':uniprot_name,\n",
    "            'uniprot_ec':uniprot_ec,\n",
    "            'pfam_ids':pfam_ids\n",
    "        })\n",
    "        \n",
    "    except Exception as e:\n",
    "        print(f\"exception: {e}\")\n",
    "        pass"
   ]
  },
  {
   "cell_type": "code",
   "execution_count": 42,
   "id": "cultural-christianity",
   "metadata": {},
   "outputs": [
    {
     "name": "stdout",
     "output_type": "stream",
     "text": [
      "processing chunk 0 of 43... in window[0:100]\n",
      "processing chunk 1 of 43... in window[100:200]\n",
      "processing chunk 2 of 43... in window[200:300]\n",
      "processing chunk 3 of 43... in window[300:400]\n",
      "processing chunk 4 of 43... in window[400:500]\n",
      "processing chunk 5 of 43... in window[500:600]\n",
      "processing chunk 6 of 43... in window[600:700]\n",
      "processing chunk 7 of 43... in window[700:800]\n",
      "processing chunk 8 of 43... in window[800:900]\n",
      "processing chunk 9 of 43... in window[900:1000]\n",
      "processing chunk 10 of 43... in window[1000:1100]\n",
      "processing chunk 11 of 43... in window[1100:1200]\n",
      "processing chunk 12 of 43... in window[1200:1300]\n",
      "processing chunk 13 of 43... in window[1300:1400]\n",
      "processing chunk 14 of 43... in window[1400:1500]\n",
      "processing chunk 15 of 43... in window[1500:1600]\n",
      "processing chunk 16 of 43... in window[1600:1700]\n",
      "processing chunk 17 of 43... in window[1700:1800]\n",
      "processing chunk 18 of 43... in window[1800:1900]\n",
      "processing chunk 19 of 43... in window[1900:2000]\n",
      "processing chunk 20 of 43... in window[2000:2100]\n",
      "processing chunk 21 of 43... in window[2100:2200]\n",
      "processing chunk 22 of 43... in window[2200:2300]\n",
      "processing chunk 23 of 43... in window[2300:2400]\n",
      "processing chunk 24 of 43... in window[2400:2500]\n",
      "processing chunk 25 of 43... in window[2500:2600]\n",
      "processing chunk 26 of 43... in window[2600:2700]\n",
      "processing chunk 27 of 43... in window[2700:2800]\n",
      "processing chunk 28 of 43... in window[2800:2900]\n",
      "processing chunk 29 of 43... in window[2900:3000]\n",
      "processing chunk 30 of 43... in window[3000:3100]\n",
      "processing chunk 31 of 43... in window[3100:3200]\n",
      "processing chunk 32 of 43... in window[3200:3300]\n",
      "processing chunk 33 of 43... in window[3300:3400]\n",
      "processing chunk 34 of 43... in window[3400:3500]\n",
      "processing chunk 35 of 43... in window[3500:3600]\n",
      "processing chunk 36 of 43... in window[3600:3700]\n",
      "processing chunk 37 of 43... in window[3700:3800]\n",
      "processing chunk 38 of 43... in window[3800:3900]\n",
      "processing chunk 39 of 43... in window[3900:4000]\n",
      "processing chunk 40 of 43... in window[4000:4100]\n",
      "processing chunk 41 of 43... in window[4100:4200]\n",
      "processing chunk 42 of 43... in window[4200:4300]\n"
     ]
    }
   ],
   "source": [
    "window_size = 100\n",
    "\n",
    "slices = range( (int(len(brenda_and_pubchem['uniprot_ids'].unique()) / window_size) + 1) )\n",
    "\n",
    "uids = list(brenda_and_pubchem['uniprot_ids'].unique())\n",
    "\n",
    "request_data_chunks = []\n",
    "\n",
    "existing_chunks = glob.glob(\"uniprot_seq_chunks/*\")\n",
    "                            \n",
    "for idx, slice_num in enumerate(slices):\n",
    "    outfile_name =  f\"uniprot_seq_chunks/uniprot_seqs_chunk_{idx}.tsv\"\n",
    "    if outfile_name not in existing_chunks:\n",
    "        try:\n",
    "            time.sleep(5)\n",
    "            print(f\"processing chunk {idx} of {len(list(slices))}... in window[{slice_num*window_size}:{(slice_num*window_size)+window_size}]\")\n",
    "            pd.concat([get_uniprot_entry_by_id(idx,uid) for idx,uid in enumerate(uids[slice_num*window_size:(slice_num*window_size)+window_size]) ]).to_csv(\n",
    "                f\"uniprot_seq_chunks/uniprot_seqs_chunk_{idx}.tsv\", sep='\\t')\n",
    "        except Exception as e:\n",
    "            print(f\"ran into exception on slice number {idx}: {e}\")\n",
    "    else:\n",
    "        print(f\"{outfile_name} already exists, skipping processing for chunk {idx}...\")"
   ]
  },
  {
   "cell_type": "code",
   "execution_count": 43,
   "id": "christian-favorite",
   "metadata": {},
   "outputs": [],
   "source": [
    "pd.concat([pd.read_csv(i, sep=\"\\t\") for i in glob.glob(\"uniprot_seq_chunks/*\")]).to_csv(\"uniprot_all_seqs_clean_new.tsv\", sep=\"\\t\")"
   ]
  },
  {
   "cell_type": "code",
   "execution_count": 52,
   "id": "japanese-commission",
   "metadata": {},
   "outputs": [],
   "source": [
    "#uniprot_all_seqs = pd.read_csv(\"uniprot_all_seqs_clean.tsv\", sep='\\t')\n",
    "uniprot_all_seqs = pd.read_csv(\"uniprot_all_seqs_clean_new.tsv\", sep='\\t')\n",
    "uniprot_all_seqs = uniprot_all_seqs[[i for i in uniprot_all_seqs.columns if not i.startswith('Unnamed')]]"
   ]
  },
  {
   "cell_type": "code",
   "execution_count": 53,
   "id": "unlimited-xerox",
   "metadata": {},
   "outputs": [
    {
     "data": {
      "text/html": [
       "<div>\n",
       "<style scoped>\n",
       "    .dataframe tbody tr th:only-of-type {\n",
       "        vertical-align: middle;\n",
       "    }\n",
       "\n",
       "    .dataframe tbody tr th {\n",
       "        vertical-align: top;\n",
       "    }\n",
       "\n",
       "    .dataframe thead th {\n",
       "        text-align: right;\n",
       "    }\n",
       "</style>\n",
       "<table border=\"1\" class=\"dataframe\">\n",
       "  <thead>\n",
       "    <tr style=\"text-align: right;\">\n",
       "      <th></th>\n",
       "      <th>index</th>\n",
       "      <th>aa_sequence</th>\n",
       "      <th>uniprot_accession</th>\n",
       "      <th>uniprot_name</th>\n",
       "      <th>uniprot_ec</th>\n",
       "      <th>pfam_ids</th>\n",
       "    </tr>\n",
       "  </thead>\n",
       "  <tbody>\n",
       "    <tr>\n",
       "      <th>0</th>\n",
       "      <td>0</td>\n",
       "      <td>MMTLNLQTMSSNDMLNFGKKPAYTTSNGSMYIGDSLELLESFPDES...</td>\n",
       "      <td>P11409</td>\n",
       "      <td>NaN</td>\n",
       "      <td>NaN</td>\n",
       "      <td>PF01555</td>\n",
       "    </tr>\n",
       "    <tr>\n",
       "      <th>1</th>\n",
       "      <td>1</td>\n",
       "      <td>MLLIVNENEPDTSTHTDEPIQEPARGRLVVGDARKVLAGMADKSFQ...</td>\n",
       "      <td>Q3BWM2</td>\n",
       "      <td>NaN</td>\n",
       "      <td>NaN</td>\n",
       "      <td>PF01555</td>\n",
       "    </tr>\n",
       "    <tr>\n",
       "      <th>2</th>\n",
       "      <td>2</td>\n",
       "      <td>MENLKFDLFLSNVDIDFKDYKIKESVHGIHSYPAMMPAPLAEFLIQ...</td>\n",
       "      <td>B9MK94</td>\n",
       "      <td>NaN</td>\n",
       "      <td>NaN</td>\n",
       "      <td>PF01555</td>\n",
       "    </tr>\n",
       "    <tr>\n",
       "      <th>3</th>\n",
       "      <td>3</td>\n",
       "      <td>MNAEKSPVNHNVDHEEIAKFEAVASRWWDLEGEFKPLHRINPLRLG...</td>\n",
       "      <td>P17993</td>\n",
       "      <td>NaN</td>\n",
       "      <td>NaN</td>\n",
       "      <td>NaN</td>\n",
       "    </tr>\n",
       "    <tr>\n",
       "      <th>4</th>\n",
       "      <td>4</td>\n",
       "      <td>EGANFLAGLGSLGRLICIPMALKAALDLQVFEIIASAGAGSHLSAS...</td>\n",
       "      <td>A0A5P9PAM0</td>\n",
       "      <td>(S)-scoulerine 9-O-methyltransferase</td>\n",
       "      <td>2.1.1.117</td>\n",
       "      <td>PF08100;PF00891</td>\n",
       "    </tr>\n",
       "    <tr>\n",
       "      <th>...</th>\n",
       "      <td>...</td>\n",
       "      <td>...</td>\n",
       "      <td>...</td>\n",
       "      <td>...</td>\n",
       "      <td>...</td>\n",
       "      <td>...</td>\n",
       "    </tr>\n",
       "    <tr>\n",
       "      <th>4283</th>\n",
       "      <td>95</td>\n",
       "      <td>MHGKLIGVGVGPGDSELLTLRAVNVLRSVPVICAPRSSSERESIAL...</td>\n",
       "      <td>O27402</td>\n",
       "      <td>Precorrin-2 methyltransferase</td>\n",
       "      <td>NaN</td>\n",
       "      <td>PF00590</td>\n",
       "    </tr>\n",
       "    <tr>\n",
       "      <th>4284</th>\n",
       "      <td>96</td>\n",
       "      <td>MNNQGSIISVSLGPGDPGLITVKALSQLREADVIYYPGTVSASGAV...</td>\n",
       "      <td>Q8KFD9</td>\n",
       "      <td>Precorrin-2 C20-methyltransferase</td>\n",
       "      <td>2.1.1.130</td>\n",
       "      <td>PF00590</td>\n",
       "    </tr>\n",
       "    <tr>\n",
       "      <th>4285</th>\n",
       "      <td>97</td>\n",
       "      <td>MNTTTEQDFGADPTKVRDTDHYTEEYVDGFVDKWDDLIDWDSRAKS...</td>\n",
       "      <td>Q9KJ22</td>\n",
       "      <td>NaN</td>\n",
       "      <td>NaN</td>\n",
       "      <td>PF13649</td>\n",
       "    </tr>\n",
       "    <tr>\n",
       "      <th>4286</th>\n",
       "      <td>98</td>\n",
       "      <td>MTKSVDDLARGDQAGDEQDPVHREQQTFGDNPLEVRDTDHYMHEYV...</td>\n",
       "      <td>Q9KJ20</td>\n",
       "      <td>NaN</td>\n",
       "      <td>NaN</td>\n",
       "      <td>PF08241;PF13649</td>\n",
       "    </tr>\n",
       "    <tr>\n",
       "      <th>4287</th>\n",
       "      <td>99</td>\n",
       "      <td>MAIKEKQVQDYGENPIEVRDSDHYQNEYIEGFVEKWDELINWHARS...</td>\n",
       "      <td>Q83WC4</td>\n",
       "      <td>NaN</td>\n",
       "      <td>NaN</td>\n",
       "      <td>PF13649</td>\n",
       "    </tr>\n",
       "  </tbody>\n",
       "</table>\n",
       "<p>4288 rows × 6 columns</p>\n",
       "</div>"
      ]
     },
     "execution_count": 53,
     "metadata": {},
     "output_type": "execute_result"
    }
   ],
   "source": [
    "uniprot_all_seqs"
   ]
  },
  {
   "cell_type": "markdown",
   "id": "african-webcam",
   "metadata": {},
   "source": [
    "# Combine AA, Compound, and BRENDA Data"
   ]
  },
  {
   "cell_type": "code",
   "execution_count": 54,
   "id": "executive-lotus",
   "metadata": {},
   "outputs": [],
   "source": [
    "all_data_combined = brenda_and_pubchem.merge(uniprot_all_seqs, left_on='uniprot_ids', right_on='uniprot_accession', how='inner')\n",
    "all_data_combined_clean = all_data_combined.drop(['uniprot_accession','index','Title'], axis=1)"
   ]
  },
  {
   "cell_type": "code",
   "execution_count": 55,
   "id": "differential-locator",
   "metadata": {},
   "outputs": [],
   "source": [
    "all_data_combined_clean.to_csv('all_data_combined_clean.tsv', sep='\\t')"
   ]
  },
  {
   "cell_type": "code",
   "execution_count": null,
   "id": "embedded-template",
   "metadata": {},
   "outputs": [],
   "source": []
  }
 ],
 "metadata": {
  "kernelspec": {
   "display_name": "Python [conda env:general-ds]",
   "language": "python",
   "name": "conda-env-general-ds-py"
  },
  "language_info": {
   "codemirror_mode": {
    "name": "ipython",
    "version": 3
   },
   "file_extension": ".py",
   "mimetype": "text/x-python",
   "name": "python",
   "nbconvert_exporter": "python",
   "pygments_lexer": "ipython3",
   "version": "3.8.5"
  }
 },
 "nbformat": 4,
 "nbformat_minor": 5
}
